{
  "nbformat": 4,
  "nbformat_minor": 0,
  "metadata": {
    "colab": {
      "name": "Compelte_guide_for_yolo",
      "provenance": [],
      "collapsed_sections": []
    },
    "kernelspec": {
      "name": "python3",
      "display_name": "Python 3"
    },
    "language_info": {
      "name": "python"
    },
    "accelerator": "GPU"
  },
  "cells": [
    {
      "cell_type": "markdown",
      "metadata": {
        "id": "ZRyFR5TBfVej"
      },
      "source": [
        "## **Complete Guide to train YOLO**\n",
        "\n",
        "This notebook is created by Aryan, Darshan, Vishesh and it helps to simplify the training of the model Please follow the following steps to do the training without any problem \n",
        "\n",
        "* Please create a **yolov3** folder in your google drive and please make sure that there is no other folder of that name  \n",
        "* If you want to train again please rename the earlier folder and make another yolov3 folder in your drive (Make sure that folder is empty)\n",
        "*If you already have the annotations and images then please upload them to yolov3 in obj.zip format and make sure that on unzipping it generates only obj folder and in that the inmage and annotations make sure that annotations are in yolo format and if you have some other annotations please check the script in the notebook that converts the annotations\n",
        "*Please make sure that the naming conventions are followed as specified in the notebook otherwise this will not work \n",
        "* obj.data, obj.names take time to reflect so if it does not work please refresh the contents and run the code again\n",
        "*Well That's it enjoy\n",
        "\n",
        "**references:**\n",
        "\n",
        "* https://github.com/EscVM\n",
        "* https://github.com/theAIGuysCode?tab=repositories\n",
        "\n"
      ]
    },
    {
      "cell_type": "markdown",
      "metadata": {
        "id": "j11sUWHEfc1d"
      },
      "source": [
        "### Mount you drive and add it using the mount drive button on right most side"
      ]
    },
    {
      "cell_type": "code",
      "metadata": {
        "id": "pI1DyD6bC1e6",
        "colab": {
          "base_uri": "https://localhost:8080/"
        },
        "outputId": "3d93c97d-db22-4044-c459-f1a97a8ffde0"
      },
      "source": [
        "from google.colab import drive\n",
        "drive.mount('/content/drive')"
      ],
      "execution_count": null,
      "outputs": [
        {
          "output_type": "stream",
          "text": [
            "Mounted at /content/drive\n"
          ],
          "name": "stdout"
        }
      ]
    },
    {
      "cell_type": "markdown",
      "metadata": {
        "id": "b-QJpM_dfsp9"
      },
      "source": [
        "**Clone This repo only if you what to access the images from storage.googleapi.com**"
      ]
    },
    {
      "cell_type": "code",
      "metadata": {
        "id": "G4D9PPg0C-XU",
        "colab": {
          "base_uri": "https://localhost:8080/"
        },
        "outputId": "1dea5755-33a0-4c69-c550-c3c7a17f58af"
      },
      "source": [
        "! git clone https://github.com/theAIGuysCode/OIDv4_ToolKit.git"
      ],
      "execution_count": null,
      "outputs": [
        {
          "output_type": "stream",
          "text": [
            "Cloning into 'OIDv4_ToolKit'...\n",
            "remote: Enumerating objects: 444, done.\u001b[K\n",
            "remote: Total 444 (delta 0), reused 0 (delta 0), pack-reused 444\u001b[K\n",
            "Receiving objects: 100% (444/444), 34.09 MiB | 33.21 MiB/s, done.\n",
            "Resolving deltas: 100% (157/157), done.\n"
          ],
          "name": "stdout"
        }
      ]
    },
    {
      "cell_type": "markdown",
      "metadata": {
        "id": "Xn3IBlJIf_cK"
      },
      "source": [
        "Follow these steps to start the data grabbing from Storage api"
      ]
    },
    {
      "cell_type": "code",
      "metadata": {
        "id": "xp1iMC0YDfCM",
        "colab": {
          "base_uri": "https://localhost:8080/"
        },
        "outputId": "5c1dca96-c308-43fc-e27f-1c6f42e449bb"
      },
      "source": [
        "%cd /content/OIDv4_ToolKit"
      ],
      "execution_count": null,
      "outputs": [
        {
          "output_type": "stream",
          "text": [
            "/content/OIDv4_ToolKit\n"
          ],
          "name": "stdout"
        }
      ]
    },
    {
      "cell_type": "code",
      "metadata": {
        "id": "Js4Ver0ND1Gj",
        "colab": {
          "base_uri": "https://localhost:8080/"
        },
        "outputId": "8734a36a-b2dd-4c62-d9b4-cdc793c80122"
      },
      "source": [
        "! pip install -r /content/OIDv4_ToolKit/requirements.txt"
      ],
      "execution_count": null,
      "outputs": [
        {
          "output_type": "stream",
          "text": [
            "Requirement already satisfied: pandas in /usr/local/lib/python3.7/dist-packages (from -r /content/OIDv4_ToolKit/requirements.txt (line 1)) (1.1.5)\n",
            "Requirement already satisfied: numpy in /usr/local/lib/python3.7/dist-packages (from -r /content/OIDv4_ToolKit/requirements.txt (line 2)) (1.19.5)\n",
            "Collecting awscli\n",
            "\u001b[?25l  Downloading https://files.pythonhosted.org/packages/4a/a0/8a443f4a86313cf9ac6a2826ac4be46552be85a03a0ba8a4d5d7342a797c/awscli-1.19.83-py2.py3-none-any.whl (3.6MB)\n",
            "\u001b[K     |████████████████████████████████| 3.6MB 7.5MB/s \n",
            "\u001b[?25hRequirement already satisfied: urllib3 in /usr/local/lib/python3.7/dist-packages (from -r /content/OIDv4_ToolKit/requirements.txt (line 4)) (1.24.3)\n",
            "Requirement already satisfied: tqdm in /usr/local/lib/python3.7/dist-packages (from -r /content/OIDv4_ToolKit/requirements.txt (line 5)) (4.41.1)\n",
            "Requirement already satisfied: opencv-python in /usr/local/lib/python3.7/dist-packages (from -r /content/OIDv4_ToolKit/requirements.txt (line 6)) (4.1.2.30)\n",
            "Requirement already satisfied: python-dateutil>=2.7.3 in /usr/local/lib/python3.7/dist-packages (from pandas->-r /content/OIDv4_ToolKit/requirements.txt (line 1)) (2.8.1)\n",
            "Requirement already satisfied: pytz>=2017.2 in /usr/local/lib/python3.7/dist-packages (from pandas->-r /content/OIDv4_ToolKit/requirements.txt (line 1)) (2018.9)\n",
            "Requirement already satisfied: rsa<4.8,>=3.1.2; python_version > \"2.7\" in /usr/local/lib/python3.7/dist-packages (from awscli->-r /content/OIDv4_ToolKit/requirements.txt (line 3)) (4.7.2)\n",
            "Collecting docutils<0.16,>=0.10\n",
            "\u001b[?25l  Downloading https://files.pythonhosted.org/packages/22/cd/a6aa959dca619918ccb55023b4cb151949c64d4d5d55b3f4ffd7eee0c6e8/docutils-0.15.2-py3-none-any.whl (547kB)\n",
            "\u001b[K     |████████████████████████████████| 552kB 44.2MB/s \n",
            "\u001b[?25hCollecting s3transfer<0.5.0,>=0.4.0\n",
            "\u001b[?25l  Downloading https://files.pythonhosted.org/packages/63/d0/693477c688348654ddc21dcdce0817653a294aa43f41771084c25e7ff9c7/s3transfer-0.4.2-py2.py3-none-any.whl (79kB)\n",
            "\u001b[K     |████████████████████████████████| 81kB 12.5MB/s \n",
            "\u001b[?25hCollecting botocore==1.20.83\n",
            "\u001b[?25l  Downloading https://files.pythonhosted.org/packages/cb/46/8a9db3126e2390cb0a551344a237b5bc5162478b04f56a96cbe1cac5d5a8/botocore-1.20.83-py2.py3-none-any.whl (7.6MB)\n",
            "\u001b[K     |████████████████████████████████| 7.6MB 48.9MB/s \n",
            "\u001b[?25hRequirement already satisfied: PyYAML<5.5,>=3.10 in /usr/local/lib/python3.7/dist-packages (from awscli->-r /content/OIDv4_ToolKit/requirements.txt (line 3)) (3.13)\n",
            "Collecting colorama<0.4.4,>=0.2.5\n",
            "  Downloading https://files.pythonhosted.org/packages/c9/dc/45cdef1b4d119eb96316b3117e6d5708a08029992b2fee2c143c7a0a5cc5/colorama-0.4.3-py2.py3-none-any.whl\n",
            "Requirement already satisfied: six>=1.5 in /usr/local/lib/python3.7/dist-packages (from python-dateutil>=2.7.3->pandas->-r /content/OIDv4_ToolKit/requirements.txt (line 1)) (1.15.0)\n",
            "Requirement already satisfied: pyasn1>=0.1.3 in /usr/local/lib/python3.7/dist-packages (from rsa<4.8,>=3.1.2; python_version > \"2.7\"->awscli->-r /content/OIDv4_ToolKit/requirements.txt (line 3)) (0.4.8)\n",
            "Collecting jmespath<1.0.0,>=0.7.1\n",
            "  Downloading https://files.pythonhosted.org/packages/07/cb/5f001272b6faeb23c1c9e0acc04d48eaaf5c862c17709d20e3469c6e0139/jmespath-0.10.0-py2.py3-none-any.whl\n",
            "\u001b[31mERROR: datascience 0.10.6 has requirement folium==0.2.1, but you'll have folium 0.8.3 which is incompatible.\u001b[0m\n",
            "\u001b[31mERROR: botocore 1.20.83 has requirement urllib3<1.27,>=1.25.4, but you'll have urllib3 1.24.3 which is incompatible.\u001b[0m\n",
            "Installing collected packages: docutils, jmespath, botocore, s3transfer, colorama, awscli\n",
            "  Found existing installation: docutils 0.17.1\n",
            "    Uninstalling docutils-0.17.1:\n",
            "      Successfully uninstalled docutils-0.17.1\n",
            "Successfully installed awscli-1.19.83 botocore-1.20.83 colorama-0.4.3 docutils-0.15.2 jmespath-0.10.0 s3transfer-0.4.2\n"
          ],
          "name": "stdout"
        }
      ]
    },
    {
      "cell_type": "code",
      "metadata": {
        "id": "YQ-VGswCce5k"
      },
      "source": [
        "with open('classes.sh', 'w') as f:\n",
        "  f.write('echo Please enter the elements make sure that the elements are spaced and each letter is capital:\\n')\n",
        "  f.write('echo Please enter the number of images that you what to download make sure its an integer: \\n')\n",
        "  f.write('read Classes\\n')\n",
        "  f.write('read Num \\n')\n",
        "  f.write('python /content/OIDv4_ToolKit/main.py downloader --classes $Classes --type_csv train --limit $Num\\n')"
      ],
      "execution_count": null,
      "outputs": []
    },
    {
      "cell_type": "code",
      "metadata": {
        "id": "5cQfJRcGVjS5",
        "colab": {
          "base_uri": "https://localhost:8080/"
        },
        "outputId": "4e0f7fec-bd86-4c8a-8227-e93e316c0be1"
      },
      "source": [
        "!chmod u=rwx /content/OIDv4_ToolKit/classes.sh\n",
        "!/content/OIDv4_ToolKit/classes.sh"
      ],
      "execution_count": null,
      "outputs": [
        {
          "output_type": "stream",
          "text": [
            "Please enter the elements make sure that the elements are spaced and each letter is capital:\n",
            "Please enter the number of images that you what to download make sure its an integer:\n",
            "Apple Banana\n",
            "20\n",
            "\u001b[92m\n",
            "\t\t   ___   _____  ______            _    _    \n",
            "\t\t .'   `.|_   _||_   _ `.         | |  | |   \n",
            "\t\t/  .-.  \\ | |    | | `. \\ _   __ | |__| |_  \n",
            "\t\t| |   | | | |    | |  | |[ \\ [  ]|____   _| \n",
            "\t\t\\  `-'  /_| |_  _| |_.' / \\ \\/ /     _| |_  \n",
            "\t\t `.___.'|_____||______.'   \\__/     |_____|\n",
            "\t\u001b[0m\n",
            "\u001b[92m\n",
            "             _____                    _                 _             \n",
            "            (____ \\                  | |               | |            \n",
            "             _   \\ \\ ___  _ _ _ ____ | | ___   ____  _ | | ____  ____ \n",
            "            | |   | / _ \\| | | |  _ \\| |/ _ \\ / _  |/ || |/ _  )/ ___)\n",
            "            | |__/ / |_| | | | | | | | | |_| ( ( | ( (_| ( (/ /| |    \n",
            "            |_____/ \\___/ \\____|_| |_|_|\\___/ \\_||_|\\____|\\____)_|    \n",
            "                                                          \n",
            "        \u001b[0m\n",
            "    [INFO] | Downloading Apple.\u001b[0m\n",
            "\u001b[91m   [ERROR] | Missing the class-descriptions-boxable.csv file.\u001b[0m\n",
            "\u001b[94m[DOWNLOAD] | Do you want to download the missing file? [Y/n] \u001b[0my\n",
            "...145%, 0 MB, 41398 KB/s, 0 seconds passed\n",
            "\u001b[94m[DOWNLOAD] | File class-descriptions-boxable.csv downloaded into OID/csv_folder/class-descriptions-boxable.csv.\u001b[0m\n",
            "\u001b[91m   [ERROR] | Missing the train-annotations-bbox.csv file.\u001b[0m\n",
            "\u001b[94m[DOWNLOAD] | Do you want to download the missing file? [Y/n] \u001b[0my\n",
            "...100%, 1138 MB, 35808 KB/s, 32 seconds passed\n",
            "\u001b[94m[DOWNLOAD] | File train-annotations-bbox.csv downloaded into OID/csv_folder/train-annotations-bbox.csv.\u001b[0m\n",
            "\n",
            "\u001b[95mApple\u001b[0m\n",
            "    [INFO] | Downloading train images.\u001b[0m\n",
            "    [INFO] | [INFO] Found 1078 online images for train.\u001b[0m\n",
            "    [INFO] | Limiting to 20 images.\u001b[0m\n",
            "    [INFO] | Download of 20 images in train.\u001b[0m\n",
            "100% 20/20 [00:12<00:00,  1.67it/s]\n",
            "    [INFO] | Done!\u001b[0m\n",
            "    [INFO] | Creating labels for Apple of train.\u001b[0m\n",
            "    [INFO] | Labels creation completed.\u001b[0m\n",
            "    [INFO] | Downloading Banana.\u001b[0m\n",
            "\n",
            "\u001b[95mBanana\u001b[0m\n",
            "    [INFO] | Downloading train images.\u001b[0m\n",
            "    [INFO] | [INFO] Found 723 online images for train.\u001b[0m\n",
            "    [INFO] | Limiting to 20 images.\u001b[0m\n",
            "    [INFO] | Download of 20 images in train.\u001b[0m\n",
            "100% 20/20 [00:12<00:00,  1.56it/s]\n",
            "    [INFO] | Done!\u001b[0m\n",
            "    [INFO] | Creating labels for Banana of train.\u001b[0m\n",
            "    [INFO] | Labels creation completed.\u001b[0m\n"
          ],
          "name": "stdout"
        }
      ]
    },
    {
      "cell_type": "code",
      "metadata": {
        "id": "dYGCBfkcHmva",
        "colab": {
          "base_uri": "https://localhost:8080/"
        },
        "outputId": "c08a9c9f-0a6d-4c90-dae9-014eecfabceb"
      },
      "source": [
        "! python /content/OIDv4_ToolKit/convert_annotations.py"
      ],
      "execution_count": null,
      "outputs": [
        {
          "output_type": "stream",
          "text": [
            "Currently in subdirectory: train\n",
            "Converting annotations for class:  Apple\n",
            "100% 20/20 [00:00<00:00, 22.15it/s]\n",
            "Converting annotations for class:  Banana\n",
            "100% 20/20 [00:00<00:00, 34.28it/s]\n"
          ],
          "name": "stdout"
        }
      ]
    },
    {
      "cell_type": "markdown",
      "metadata": {
        "id": "vxJxdi7ifJN-"
      },
      "source": [
        "## The above given script has some flaws so please run the below cell to convert annotations to proper yolo format"
      ]
    },
    {
      "cell_type": "code",
      "metadata": {
        "id": "D7J03EJ9aUlX"
      },
      "source": [
        "import fnmatch\n",
        "def findReplace(directory, find, replace, filePattern):\n",
        "    for path, dirs, files in os.walk(os.path.abspath(directory)):\n",
        "        for filename in fnmatch.filter(files, filePattern):\n",
        "            filepath = os.path.join(path, filename)\n",
        "            with open(filepath) as f:\n",
        "                word = f.read()\n",
        "            word = word.replace(find, replace)\n",
        "            with open(filepath, \"w\") as f:\n",
        "                f.write(word)"
      ],
      "execution_count": null,
      "outputs": []
    },
    {
      "cell_type": "code",
      "metadata": {
        "id": "ZJyvXMZqUR-U"
      },
      "source": [
        "import os\n",
        "import glob\n",
        "from subprocess import call\n",
        "l = os.listdir('/content/OIDv4_ToolKit/OID/Dataset/train')\n",
        "i = 0\n",
        "for path in l:\n",
        "  abspath = f'/content/OIDv4_ToolKit/OID/Dataset/train/{path}'\n",
        "  test = str(path)\n",
        "  count = str(i)\n",
        "  findReplace(abspath, test, count, '*txt')\n",
        "  i++"
      ],
      "execution_count": null,
      "outputs": []
    },
    {
      "cell_type": "markdown",
      "metadata": {
        "id": "OyvIrJPffmFT"
      },
      "source": [
        "## The below given script gets the data ready with in single folder with the respective annotations"
      ]
    },
    {
      "cell_type": "code",
      "metadata": {
        "id": "kexuoRBDXg4o"
      },
      "source": [
        "import os\n",
        "import shutil\n",
        "l = sorted(os.listdir('/content/OIDv4_ToolKit/OID/Dataset/train'))\n",
        "for i in l:\n",
        "  label = os.listdir(os.path.join('/content/OIDv4_ToolKit/OID/Dataset/train', i))\n",
        "  for label1 in label:\n",
        "    if label1 == 'Label':\n",
        "      shutil.rmtree(os.path.join('/content/OIDv4_ToolKit/OID/Dataset/train', i, label1))\n",
        "      "
      ],
      "execution_count": null,
      "outputs": []
    },
    {
      "cell_type": "code",
      "metadata": {
        "id": "X_Rmz521Y-8X",
        "colab": {
          "base_uri": "https://localhost:8080/"
        },
        "outputId": "f5b8ed9a-02dc-4f18-8eec-70af1275887d"
      },
      "source": [
        "import os\n",
        "from subprocess import call\n",
        "l = os.listdir('/content/OIDv4_ToolKit/OID/Dataset/train')\n",
        "no_class = len(l)\n",
        "l_abs = []\n",
        "for path in l:\n",
        "  l_abs.append(f'/content/OIDv4_ToolKit/OID/Dataset/train/{path}')\n",
        "for path in l_abs:  \n",
        "  call(f'rsync -av {path}/ /content/OIDv4_ToolKit/OID/Dataset/obj/', shell=True)\n",
        "  print(path) \n",
        "!rm -rf '/content/OIDv4_ToolKit/OID/Dataset/train'"
      ],
      "execution_count": null,
      "outputs": [
        {
          "output_type": "stream",
          "text": [
            "/content/OIDv4_ToolKit/OID/Dataset/train/Apple\n",
            "/content/OIDv4_ToolKit/OID/Dataset/train/Banana\n"
          ],
          "name": "stdout"
        }
      ]
    },
    {
      "cell_type": "markdown",
      "metadata": {
        "id": "nmYcl1sxgAAf"
      },
      "source": [
        "## **Run this cell if you want to save data to your drive**"
      ]
    },
    {
      "cell_type": "code",
      "metadata": {
        "id": "beM4zkw6H1_K"
      },
      "source": [
        "%cd /content/OIDv4_ToolKit/OID/Dataset/\n",
        "! zip -r \"/content/drive/MyDrive/yolov3/obj.zip\" \"obj\""
      ],
      "execution_count": null,
      "outputs": []
    },
    {
      "cell_type": "code",
      "metadata": {
        "colab": {
          "base_uri": "https://localhost:8080/"
        },
        "id": "BdvZQNoEtflM",
        "outputId": "e332b8ce-806b-4391-bdff-1cf0db6a252b"
      },
      "source": [
        "! pwd"
      ],
      "execution_count": null,
      "outputs": [
        {
          "output_type": "stream",
          "text": [
            "/content/OIDv4_ToolKit/OID/Dataset\n"
          ],
          "name": "stdout"
        }
      ]
    },
    {
      "cell_type": "markdown",
      "metadata": {
        "id": "2G3-8kq-gJKl"
      },
      "source": [
        "## Downloading the Darknet framewrok which is must for yoloV3 and please make the below given changes to run the training"
      ]
    },
    {
      "cell_type": "code",
      "metadata": {
        "id": "HIg15lPAK_oR",
        "colab": {
          "base_uri": "https://localhost:8080/"
        },
        "outputId": "57dbed06-6548-4be8-fa9c-afa6147f5476"
      },
      "source": [
        "# clone darknet repo\n",
        "%cd /content/\n",
        "!git clone https://github.com/AlexeyAB/darknet"
      ],
      "execution_count": null,
      "outputs": [
        {
          "output_type": "stream",
          "text": [
            "/content\n",
            "Cloning into 'darknet'...\n",
            "remote: Enumerating objects: 15054, done.\u001b[K\n",
            "remote: Total 15054 (delta 0), reused 0 (delta 0), pack-reused 15054\u001b[K\n",
            "Receiving objects: 100% (15054/15054), 13.43 MiB | 17.93 MiB/s, done.\n",
            "Resolving deltas: 100% (10234/10234), done.\n"
          ],
          "name": "stdout"
        }
      ]
    },
    {
      "cell_type": "code",
      "metadata": {
        "id": "sYuMPdnyK_mm",
        "colab": {
          "base_uri": "https://localhost:8080/"
        },
        "outputId": "bd169310-2b32-47dd-9088-ebd0bd373926"
      },
      "source": [
        "# change makefile to have GPU and OPENCV enabled\n",
        "%cd darknet\n",
        "!sed -i 's/OPENCV=0/OPENCV=1/' Makefile\n",
        "!sed -i 's/GPU=0/GPU=1/' Makefile\n",
        "!sed -i 's/CUDNN=0/CUDNN=1/' Makefile"
      ],
      "execution_count": null,
      "outputs": [
        {
          "output_type": "stream",
          "text": [
            "/content/darknet\n"
          ],
          "name": "stdout"
        }
      ]
    },
    {
      "cell_type": "code",
      "metadata": {
        "id": "R3Ss7_oKMfpm",
        "colab": {
          "base_uri": "https://localhost:8080/"
        },
        "outputId": "9ce18d66-046f-4291-d005-cd0c074e6e86"
      },
      "source": [
        "# verify CUDA\n",
        "!/usr/local/cuda/bin/nvcc --version"
      ],
      "execution_count": null,
      "outputs": [
        {
          "output_type": "stream",
          "text": [
            "nvcc: NVIDIA (R) Cuda compiler driver\n",
            "Copyright (c) 2005-2020 NVIDIA Corporation\n",
            "Built on Wed_Jul_22_19:09:09_PDT_2020\n",
            "Cuda compilation tools, release 11.0, V11.0.221\n",
            "Build cuda_11.0_bu.TC445_37.28845127_0\n"
          ],
          "name": "stdout"
        }
      ]
    },
    {
      "cell_type": "code",
      "metadata": {
        "id": "pvfmuWG-Mj1u"
      },
      "source": [
        "# make darknet (build)\n",
        "!make"
      ],
      "execution_count": null,
      "outputs": []
    },
    {
      "cell_type": "markdown",
      "metadata": {
        "id": "-QZ8RiuIgm0p"
      },
      "source": [
        "## UnZip the data to the required folder"
      ]
    },
    {
      "cell_type": "code",
      "metadata": {
        "id": "3JtJ58--PhVD"
      },
      "source": [
        "! unzip /content/drive/MyDrive/yolov3/obj.zip -d /content/darknet/data/"
      ],
      "execution_count": null,
      "outputs": []
    },
    {
      "cell_type": "markdown",
      "metadata": {
        "id": "iW5HpqONguhy"
      },
      "source": [
        "## Create the Configuration file using the script below "
      ]
    },
    {
      "cell_type": "code",
      "metadata": {
        "id": "qtcwuQrwX8Hc"
      },
      "source": [
        "!cp cfg/yolov3.cfg cfg/yolov3_custom2.cfg"
      ],
      "execution_count": null,
      "outputs": []
    },
    {
      "cell_type": "markdown",
      "metadata": {
        "id": "oxzo126Hg70E"
      },
      "source": [
        "## Use the following function to do the required changes in the configurations file "
      ]
    },
    {
      "cell_type": "code",
      "metadata": {
        "id": "Yar6bJowIkq-"
      },
      "source": [
        "def enter_requirments_for_yolo_training():\n",
        "  print(\"Enter number of classes /n\")\n",
        "  classes = int(input())\n",
        "  if classes < 3:\n",
        "    max_batches = 6000\n",
        "    filter = (classes + 5)*3\n",
        "    step1 = max_batches*0.8    \n",
        "    step2 = max_batches*0.9    \n",
        "  else:\n",
        "    max_batches = classes * 2000\n",
        "    filter = (classes + 5)*3\n",
        "    step1 = max_batches*0.8    \n",
        "    step2 = max_batches*0.9\n",
        "  return classes, max_batches, filter, int(step1), int(step2)"
      ],
      "execution_count": null,
      "outputs": []
    },
    {
      "cell_type": "code",
      "metadata": {
        "id": "3RZDhr-nIkgj",
        "colab": {
          "base_uri": "https://localhost:8080/"
        },
        "outputId": "454af010-df78-428d-d041-be3badacf172"
      },
      "source": [
        "classes, max_batches, filter, step1, step2 = enter_requirments_for_yolo_training()"
      ],
      "execution_count": null,
      "outputs": [
        {
          "output_type": "stream",
          "text": [
            "Enter number of classes /n\n",
            "2\n"
          ],
          "name": "stdout"
        }
      ]
    },
    {
      "cell_type": "code",
      "metadata": {
        "id": "hRXqYAsPwkj9",
        "colab": {
          "base_uri": "https://localhost:8080/"
        },
        "outputId": "4dc206a9-8849-4512-ce5f-bd1994ed51d1"
      },
      "source": [
        "# Changing cfg file \n",
        "!sed -i 's/batch=1/batch=64/' cfg/yolov3_custom2.cfg #Batch_size\n",
        "call(f'sed -i \"s/subdivisions=1/subdivisions=16/\" cfg/yolov3_custom2.cfg #subdivisions', shell=True)\n",
        "call(f'sed -i \"s/max_batches = 500200/max_batches = {max_batches}/\" cfg/yolov3_custom2.cfg #max_batches = class * 2000', shell=True)\n",
        "call(f'sed -i \"s/steps=400000,450000/steps = {step1},{step2}/\" cfg/yolov3_custom2.cfg', shell=True)\n",
        "call(f'sed -i \"610 s@classes=80@classes={classes}@\" cfg/yolov3_custom2.cfg # no_ classes', shell=True)\n",
        "call(f'sed -i \"696 s@classes=80@classes={classes}@\" cfg/yolov3_custom2.cfg #', shell=True)\n",
        "call(f'sed -i \"783 s@classes=80@classes={classes}@\" cfg/yolov3_custom2.cfg #', shell=True)\n",
        "call(f'sed -i \"603 s@filters=255@filters={filter}@\" cfg/yolov3_custom2.cfg #no_filters = (class + 5)*3', shell=True)\n",
        "call(f'sed -i \"689 s@filters=255@filters={filter}@\" cfg/yolov3_custom2.cfg', shell=True) \n",
        "call(f'sed -i \"776 s@filters=255@filters={filter}@\" cfg/yolov3_custom2.cfg', shell=True)"
      ],
      "execution_count": null,
      "outputs": [
        {
          "output_type": "execute_result",
          "data": {
            "text/plain": [
              "0"
            ]
          },
          "metadata": {
            "tags": []
          },
          "execution_count": 24
        }
      ]
    },
    {
      "cell_type": "markdown",
      "metadata": {
        "id": "7qtPB31ZhKxz"
      },
      "source": [
        "## Run the below given file to generate Obj.names and Obj.data file at the required location "
      ]
    },
    {
      "cell_type": "code",
      "metadata": {
        "id": "XjRdTHJwJjRs"
      },
      "source": [
        "%cd /content/drive/MyDrive/yolov3\n",
        "!mkdir backup"
      ],
      "execution_count": null,
      "outputs": []
    },
    {
      "cell_type": "markdown",
      "metadata": {
        "id": "kzXV5Y7BiwUF"
      },
      "source": [
        ""
      ]
    },
    {
      "cell_type": "code",
      "metadata": {
        "id": "CaDrvcU08GmI"
      },
      "source": [
        "full_path_to_images = '/content/darknet/data'\n",
        "with open('obj.names', 'w') as names:\n",
        "  for i in l:\n",
        "    names.write(i + '\\n')\n",
        "with open('obj.data', 'w') as data:\n",
        "    data.write('classes = ' + str(len(l)) + '\\n')\n",
        "    data.write('train = ' + full_path_to_images + '/' + 'train.txt' + '\\n')\n",
        "    data.write('valid = ' + full_path_to_images + '/' + 'test.txt' + '\\n')\n",
        "    data.write('names = ' + full_path_to_images + '/' + 'data.names' + '\\n')\n",
        "    data.write('backup = /content/drive/MyDrive/yolov3/backup') "
      ],
      "execution_count": null,
      "outputs": []
    },
    {
      "cell_type": "markdown",
      "metadata": {
        "id": "DCppEyb5hzFK"
      },
      "source": [
        "## Generate the train.txt file using the code below and check that file is not empty"
      ]
    },
    {
      "cell_type": "code",
      "metadata": {
        "colab": {
          "base_uri": "https://localhost:8080/"
        },
        "id": "j8czcNCVuYbw",
        "outputId": "706fe08f-a4b4-4f92-cdc1-5e93e6389bf0"
      },
      "source": [
        "%cd /content/darknet"
      ],
      "execution_count": null,
      "outputs": [
        {
          "output_type": "stream",
          "text": [
            "/content/darknet\n"
          ],
          "name": "stdout"
        }
      ]
    },
    {
      "cell_type": "code",
      "metadata": {
        "id": "JVvrF99bhY8v"
      },
      "source": [
        "import os\n",
        "\n",
        "image_files = []\n",
        "os.chdir(os.path.join(\"data\", \"obj\"))\n",
        "for filename in os.listdir(os.getcwd()):\n",
        "    if filename.endswith(\".jpg\"):\n",
        "        image_files.append(\"data/obj/\" + filename)\n",
        "os.chdir(\"..\")\n",
        "with open(\"train.txt\", \"w\") as outfile:\n",
        "    for image in image_files:\n",
        "        outfile.write(image)\n",
        "        outfile.write(\"\\n\")\n",
        "    outfile.close()\n",
        "os.chdir(\"..\")"
      ],
      "execution_count": null,
      "outputs": []
    },
    {
      "cell_type": "code",
      "metadata": {
        "id": "PChUmFnBa6Q4",
        "colab": {
          "base_uri": "https://localhost:8080/"
        },
        "outputId": "4a8f10c8-dbd7-475b-e07b-3c38dd096c41"
      },
      "source": [
        "# upload pretrained convolutional layer weights\n",
        "!wget http://pjreddie.com/media/files/darknet53.conv.74"
      ],
      "execution_count": null,
      "outputs": [
        {
          "output_type": "stream",
          "text": [
            "--2021-05-28 11:30:46--  http://pjreddie.com/media/files/darknet53.conv.74\n",
            "Resolving pjreddie.com (pjreddie.com)... 128.208.4.108\n",
            "Connecting to pjreddie.com (pjreddie.com)|128.208.4.108|:80... connected.\n",
            "HTTP request sent, awaiting response... 301 Moved Permanently\n",
            "Location: https://pjreddie.com/media/files/darknet53.conv.74 [following]\n",
            "--2021-05-28 11:30:46--  https://pjreddie.com/media/files/darknet53.conv.74\n",
            "Connecting to pjreddie.com (pjreddie.com)|128.208.4.108|:443... connected.\n",
            "HTTP request sent, awaiting response... 200 OK\n",
            "Length: 162482580 (155M) [application/octet-stream]\n",
            "Saving to: ‘darknet53.conv.74’\n",
            "\n",
            "darknet53.conv.74   100%[===================>] 154.96M  92.2MB/s    in 1.7s    \n",
            "\n",
            "2021-05-28 11:30:48 (92.2 MB/s) - ‘darknet53.conv.74’ saved [162482580/162482580]\n",
            "\n"
          ],
          "name": "stdout"
        }
      ]
    },
    {
      "cell_type": "code",
      "metadata": {
        "id": "yZBoDlC9bvlL",
        "colab": {
          "base_uri": "https://localhost:8080/"
        },
        "outputId": "88d3f879-5dc5-4872-bb83-a94feb03f9f7"
      },
      "source": [
        "# train your custom detector\n",
        "!./darknet detector train data/obj.data /content/darknet/cfg/yolov3_custom2.cfg darknet53.conv.74 -dont_show"
      ],
      "execution_count": null,
      "outputs": [
        {
          "output_type": "stream",
          "text": [
            " CUDA-version: 11000 (11020), cuDNN: 7.6.5, GPU count: 1  \n",
            " OpenCV version: 3.2.0\n",
            "Couldn't open file: data/obj.data\n"
          ],
          "name": "stdout"
        }
      ]
    },
    {
      "cell_type": "code",
      "metadata": {
        "id": "pNgW94JzeKoh"
      },
      "source": [
        "assert False"
      ],
      "execution_count": null,
      "outputs": []
    },
    {
      "cell_type": "code",
      "metadata": {
        "colab": {
          "base_uri": "https://localhost:8080/"
        },
        "id": "c6d7U0w6v2Uk",
        "outputId": "abf7f1a5-0a15-4bb0-a96a-5afb93fd0e28"
      },
      "source": [
        "%cd /content/darknet"
      ],
      "execution_count": null,
      "outputs": [
        {
          "output_type": "stream",
          "text": [
            "/content/darknet\n"
          ],
          "name": "stdout"
        }
      ]
    },
    {
      "cell_type": "code",
      "metadata": {
        "id": "YU9Y5-F9bHrE"
      },
      "source": [
        "!./darknet detector train /content/darknet/obj.data /content/darknet/cfg/yolov3_custom2.cfg darknet53.conv.74 -dont_show"
      ],
      "execution_count": null,
      "outputs": []
    },
    {
      "cell_type": "code",
      "metadata": {
        "id": "893FnYyvv7Vt"
      },
      "source": [
        ""
      ],
      "execution_count": null,
      "outputs": []
    }
  ]
}